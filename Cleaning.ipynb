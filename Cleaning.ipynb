{
 "cells": [
  {
   "cell_type": "code",
   "execution_count": null,
   "id": "b8cc2774",
   "metadata": {},
   "outputs": [],
   "source": [
    "#!pip install pyautogui\n",
    "#!pip install pyperclip\n",
    "#!pip install time"
   ]
  },
  {
   "cell_type": "code",
   "execution_count": 23,
   "id": "ba4bcc6e",
   "metadata": {},
   "outputs": [],
   "source": [
    "import pyautogui as gui\n",
    "import pyperclip\n",
    "import time\n",
    "from time import sleep"
   ]
  },
  {
   "cell_type": "code",
   "execution_count": 39,
   "id": "5c3c3f19",
   "metadata": {},
   "outputs": [
    {
     "data": {
      "text/plain": [
       "Point(x=256, y=307)"
      ]
     },
     "execution_count": 39,
     "metadata": {},
     "output_type": "execute_result"
    }
   ],
   "source": [
    "#pyautogui.position()"
   ]
  },
  {
   "cell_type": "code",
   "execution_count": 47,
   "id": "5fe5f324",
   "metadata": {},
   "outputs": [
    {
     "ename": "KeyboardInterrupt",
     "evalue": "",
     "output_type": "error",
     "traceback": [
      "\u001b[1;31m---------------------------------------------------------------------------\u001b[0m",
      "\u001b[1;31mKeyboardInterrupt\u001b[0m                         Traceback (most recent call last)",
      "\u001b[1;32m~\\AppData\\Local\\Temp\\ipykernel_1264\\3321028365.py\u001b[0m in \u001b[0;36m<module>\u001b[1;34m\u001b[0m\n\u001b[0;32m     34\u001b[0m     \u001b[0mpyautogui\u001b[0m\u001b[1;33m.\u001b[0m\u001b[0mhotkey\u001b[0m\u001b[1;33m(\u001b[0m\u001b[1;34m\"alt\"\u001b[0m\u001b[1;33m,\u001b[0m\u001b[1;34m\"tab\"\u001b[0m\u001b[1;33m)\u001b[0m\u001b[1;33m\u001b[0m\u001b[1;33m\u001b[0m\u001b[0m\n\u001b[0;32m     35\u001b[0m     \u001b[0mpyautogui\u001b[0m\u001b[1;33m.\u001b[0m\u001b[0mpress\u001b[0m\u001b[1;33m(\u001b[0m\u001b[1;34m'left'\u001b[0m\u001b[1;33m)\u001b[0m\u001b[1;33m\u001b[0m\u001b[1;33m\u001b[0m\u001b[0m\n\u001b[1;32m---> 36\u001b[1;33m     \u001b[0mpyautogui\u001b[0m\u001b[1;33m.\u001b[0m\u001b[0mpress\u001b[0m\u001b[1;33m(\u001b[0m\u001b[1;34m'left'\u001b[0m\u001b[1;33m)\u001b[0m\u001b[1;33m\u001b[0m\u001b[1;33m\u001b[0m\u001b[0m\n\u001b[0m\u001b[0;32m     37\u001b[0m     \u001b[0mpyautogui\u001b[0m\u001b[1;33m.\u001b[0m\u001b[0mpress\u001b[0m\u001b[1;33m(\u001b[0m\u001b[1;34m'left'\u001b[0m\u001b[1;33m)\u001b[0m\u001b[1;33m\u001b[0m\u001b[1;33m\u001b[0m\u001b[0m\n\u001b[0;32m     38\u001b[0m     \u001b[0mpyautogui\u001b[0m\u001b[1;33m.\u001b[0m\u001b[0mpress\u001b[0m\u001b[1;33m(\u001b[0m\u001b[1;34m'left'\u001b[0m\u001b[1;33m)\u001b[0m\u001b[1;33m\u001b[0m\u001b[1;33m\u001b[0m\u001b[0m\n",
      "\u001b[1;32m~\\anaconda3\\lib\\site-packages\\pyautogui\\__init__.py\u001b[0m in \u001b[0;36mwrapper\u001b[1;34m(*args, **kwargs)\u001b[0m\n\u001b[0;32m    597\u001b[0m         \u001b[0mfailSafeCheck\u001b[0m\u001b[1;33m(\u001b[0m\u001b[1;33m)\u001b[0m\u001b[1;33m\u001b[0m\u001b[1;33m\u001b[0m\u001b[0m\n\u001b[0;32m    598\u001b[0m         \u001b[0mreturnVal\u001b[0m \u001b[1;33m=\u001b[0m \u001b[0mwrappedFunction\u001b[0m\u001b[1;33m(\u001b[0m\u001b[1;33m*\u001b[0m\u001b[0margs\u001b[0m\u001b[1;33m,\u001b[0m \u001b[1;33m**\u001b[0m\u001b[0mkwargs\u001b[0m\u001b[1;33m)\u001b[0m\u001b[1;33m\u001b[0m\u001b[1;33m\u001b[0m\u001b[0m\n\u001b[1;32m--> 599\u001b[1;33m         \u001b[0m_handlePause\u001b[0m\u001b[1;33m(\u001b[0m\u001b[0mkwargs\u001b[0m\u001b[1;33m.\u001b[0m\u001b[0mget\u001b[0m\u001b[1;33m(\u001b[0m\u001b[1;34m\"_pause\"\u001b[0m\u001b[1;33m,\u001b[0m \u001b[1;32mTrue\u001b[0m\u001b[1;33m)\u001b[0m\u001b[1;33m)\u001b[0m\u001b[1;33m\u001b[0m\u001b[1;33m\u001b[0m\u001b[0m\n\u001b[0m\u001b[0;32m    600\u001b[0m         \u001b[1;32mreturn\u001b[0m \u001b[0mreturnVal\u001b[0m\u001b[1;33m\u001b[0m\u001b[1;33m\u001b[0m\u001b[0m\n\u001b[0;32m    601\u001b[0m \u001b[1;33m\u001b[0m\u001b[0m\n",
      "\u001b[1;32m~\\anaconda3\\lib\\site-packages\\pyautogui\\__init__.py\u001b[0m in \u001b[0;36m_handlePause\u001b[1;34m(_pause)\u001b[0m\n\u001b[0;32m    641\u001b[0m     \u001b[1;32mif\u001b[0m \u001b[0m_pause\u001b[0m\u001b[1;33m:\u001b[0m\u001b[1;33m\u001b[0m\u001b[1;33m\u001b[0m\u001b[0m\n\u001b[0;32m    642\u001b[0m         \u001b[1;32massert\u001b[0m \u001b[0misinstance\u001b[0m\u001b[1;33m(\u001b[0m\u001b[0mPAUSE\u001b[0m\u001b[1;33m,\u001b[0m \u001b[0mint\u001b[0m\u001b[1;33m)\u001b[0m \u001b[1;32mor\u001b[0m \u001b[0misinstance\u001b[0m\u001b[1;33m(\u001b[0m\u001b[0mPAUSE\u001b[0m\u001b[1;33m,\u001b[0m \u001b[0mfloat\u001b[0m\u001b[1;33m)\u001b[0m\u001b[1;33m\u001b[0m\u001b[1;33m\u001b[0m\u001b[0m\n\u001b[1;32m--> 643\u001b[1;33m         \u001b[0mtime\u001b[0m\u001b[1;33m.\u001b[0m\u001b[0msleep\u001b[0m\u001b[1;33m(\u001b[0m\u001b[0mPAUSE\u001b[0m\u001b[1;33m)\u001b[0m\u001b[1;33m\u001b[0m\u001b[1;33m\u001b[0m\u001b[0m\n\u001b[0m\u001b[0;32m    644\u001b[0m \u001b[1;33m\u001b[0m\u001b[0m\n\u001b[0;32m    645\u001b[0m \u001b[1;33m\u001b[0m\u001b[0m\n",
      "\u001b[1;31mKeyboardInterrupt\u001b[0m: "
     ]
    }
   ],
   "source": [
    "#Excel part\n",
    "time.sleep(10)\n",
    "pyautogui.PAUSE = 1\n",
    "\n",
    "pyautogui.click(147,294)\n",
    "pyautogui.hotkey(\"ctrl\", \"c\")\n",
    "pyautogui.hotkey(\"alt\",\"tab\")\n",
    "\n",
    "#Program set up\n",
    "pyautogui.click(273,756)\n",
    "pyautogui.doubleClick(776, 139)\n",
    "pyautogui.hotkey(\"ctrl\", \"v\")\n",
    "pyautogui.press(\"enter\")\n",
    "\n",
    "#Excel copy number of products\n",
    "pyautogui.hotkey(\"alt\",\"tab\")\n",
    "pyautogui.press('right')\n",
    "pyautogui.press('right')\n",
    "pyautogui.press('right') \n",
    "pyautogui.hotkey(\"ctrl\", \"c\")\n",
    "pyautogui.hotkey(\"alt\",\"tab\")\n",
    "\n",
    "#Program past number of products\n",
    "pyautogui.doubleClick(409,230)\n",
    "pyautogui.click(500,262)\n",
    "pyautogui.click(256,307)\n",
    "pyautogui.hotkey(\"ctrl\", \"v\")\n",
    "#final step\n",
    "pyautogui.click(273, 681)\n",
    "\n",
    "while True:\n",
    "    sleep(1)\n",
    "\n",
    "    pyautogui.hotkey(\"alt\",\"tab\")\n",
    "    pyautogui.press('left')\n",
    "    pyautogui.press('left')\n",
    "    pyautogui.press('left')\n",
    "    pyautogui.press('left')\n",
    "    pyautogui.press('v')\n",
    "    pyautogui.press('down')\n",
    "    pyautogui.press('right')\n",
    "    pyautogui.hotkey(\"ctrl\", \"c\")\n",
    "    pyautogui.hotkey(\"alt\",\"tab\")\n",
    "\n",
    "    #Program set up\n",
    "    pyautogui.click(273,756)\n",
    "    pyautogui.doubleClick(776, 139)\n",
    "    pyautogui.hotkey(\"ctrl\", \"v\")\n",
    "    pyautogui.press(\"enter\")\n",
    "\n",
    "    #Excel copy number of products\n",
    "    pyautogui.hotkey(\"alt\",\"tab\")\n",
    "    pyautogui.press('right')\n",
    "    pyautogui.press('right')\n",
    "    pyautogui.press('right') \n",
    "    pyautogui.hotkey(\"ctrl\", \"c\")\n",
    "    pyautogui.hotkey(\"alt\",\"tab\")\n",
    "\n",
    "    #Program past number of products\n",
    "    pyautogui.doubleClick(409,230)\n",
    "    pyautogui.click(500,262)\n",
    "    pyautogui.click(256,307)\n",
    "    pyautogui.hotkey(\"ctrl\", \"v\")\n",
    "    #final step\n",
    "    pyautogui.click(273, 681)"
   ]
  },
  {
   "cell_type": "code",
   "execution_count": 22,
   "id": "d948e915",
   "metadata": {},
   "outputs": [],
   "source": []
  },
  {
   "cell_type": "code",
   "execution_count": null,
   "id": "24e794d3",
   "metadata": {},
   "outputs": [],
   "source": []
  },
  {
   "cell_type": "code",
   "execution_count": null,
   "id": "30ce735f",
   "metadata": {},
   "outputs": [],
   "source": []
  }
 ],
 "metadata": {
  "kernelspec": {
   "display_name": "Python 3 (ipykernel)",
   "language": "python",
   "name": "python3"
  },
  "language_info": {
   "codemirror_mode": {
    "name": "ipython",
    "version": 3
   },
   "file_extension": ".py",
   "mimetype": "text/x-python",
   "name": "python",
   "nbconvert_exporter": "python",
   "pygments_lexer": "ipython3",
   "version": "3.9.13"
  }
 },
 "nbformat": 4,
 "nbformat_minor": 5
}
